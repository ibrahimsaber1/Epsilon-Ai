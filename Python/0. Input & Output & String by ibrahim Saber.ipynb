{
 "cells": [
  {
   "cell_type": "markdown",
   "metadata": {},
   "source": [
    "> # Dear Epsilon Students, \n",
    "> # The More you practice The better You'll Be.\n",
    "> # #Ibrahim Saber's answers"
   ]
  },
  {
   "cell_type": "markdown",
   "metadata": {},
   "source": [
    "# Q.1 Given the radius of circle, print circumference of circle"
   ]
  },
  {
   "cell_type": "code",
   "execution_count": 22,
   "metadata": {},
   "outputs": [
    {
     "name": "stdout",
     "output_type": "stream",
     "text": [
      "when r =5.0 \n",
      "the circumference is 31.400000000000002\n"
     ]
    }
   ],
   "source": [
    "# Answer here \n",
    "\n",
    "r = float(input('pleas enter the radicus'))\n",
    "\n",
    "pi = 3.14\n",
    "\n",
    "circumference = 2* pi*r\n",
    "\n",
    "print (f'''when r ={r} \n",
    "the circumference is {circumference}''')"
   ]
  },
  {
   "cell_type": "markdown",
   "metadata": {},
   "source": [
    "# Q.2 Given the width and height of rectangle, print perimeter of rectangle"
   ]
  },
  {
   "cell_type": "code",
   "execution_count": 23,
   "metadata": {},
   "outputs": [
    {
     "name": "stdout",
     "output_type": "stream",
     "text": [
      "when w = 2.0 and h = 3.0 \n",
      "then the perimeter is 10.0\n"
     ]
    }
   ],
   "source": [
    "# Answer here \n",
    "\n",
    "w = float(input('pleas enter the weidth of the rectangle'))\n",
    "h = float(input('pleas enter the height of the rectangle'))\n",
    "\n",
    "perimeter = w*2 + h*2\n",
    "\n",
    "print (f'''when w = {w} and h = {h} \n",
    "then the perimeter is {perimeter}''')"
   ]
  },
  {
   "cell_type": "markdown",
   "metadata": {},
   "source": [
    "# Q.03 Write a Python program to calculate how many times letter 'l' is repeated in 'hello world'"
   ]
  },
  {
   "cell_type": "code",
   "execution_count": 5,
   "metadata": {},
   "outputs": [
    {
     "name": "stdout",
     "output_type": "stream",
     "text": [
      "3\n"
     ]
    }
   ],
   "source": [
    "# Answer here \n",
    "name ='hello world'\n",
    "print(name.count(\"l\"))"
   ]
  },
  {
   "cell_type": "markdown",
   "metadata": {},
   "source": [
    "# Q.04 Given the string 'hello' return the letter 'e'"
   ]
  },
  {
   "cell_type": "code",
   "execution_count": 6,
   "metadata": {},
   "outputs": [
    {
     "name": "stdout",
     "output_type": "stream",
     "text": [
      "e\n"
     ]
    }
   ],
   "source": [
    "# Answer here \n",
    "name ='hello'\n",
    "print(name[1])"
   ]
  },
  {
   "cell_type": "markdown",
   "metadata": {},
   "source": [
    "# Q.05 Reverse the string 'hello' using slicing"
   ]
  },
  {
   "cell_type": "code",
   "execution_count": 8,
   "metadata": {},
   "outputs": [
    {
     "name": "stdout",
     "output_type": "stream",
     "text": [
      "olleh\n"
     ]
    }
   ],
   "source": [
    "# Answer here\n",
    "name ='hello'\n",
    "print(name[ : :-1])\n"
   ]
  },
  {
   "cell_type": "markdown",
   "metadata": {},
   "source": [
    "# Q.06 Write a Python program to exchange the first and last letters from the string 'hello'"
   ]
  },
  {
   "cell_type": "code",
   "execution_count": 13,
   "metadata": {},
   "outputs": [
    {
     "name": "stdout",
     "output_type": "stream",
     "text": [
      "Exchanged name: oellh\n"
     ]
    }
   ],
   "source": [
    "# Answer here \n",
    "\n",
    "name = 'hello'\n",
    "\n",
    "exchanged_name = name[-1] + name[1:-1] + name[0]\n",
    "\n",
    "print(\"Exchanged name:\", exchanged_name)\n"
   ]
  },
  {
   "cell_type": "markdown",
   "metadata": {},
   "source": [
    "# <center> Thank's for your effort ❤️ </center> "
   ]
  }
 ],
 "metadata": {
  "kernelspec": {
   "display_name": "Python 3",
   "language": "python",
   "name": "python3"
  },
  "language_info": {
   "codemirror_mode": {
    "name": "ipython",
    "version": 3
   },
   "file_extension": ".py",
   "mimetype": "text/x-python",
   "name": "python",
   "nbconvert_exporter": "python",
   "pygments_lexer": "ipython3",
   "version": "3.11.5"
  }
 },
 "nbformat": 4,
 "nbformat_minor": 4
}
