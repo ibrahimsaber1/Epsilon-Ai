{
 "cells": [
  {
   "cell_type": "markdown",
   "metadata": {},
   "source": [
    "> # Dear Epsilon Students, \n",
    "> # The More you practice The better You'll Be."
   ]
  },
  {
   "cell_type": "markdown",
   "metadata": {},
   "source": [
    "### Instructions: \n",
    "- Make sure that you understand this topics before you start.\n",
    "- If you found something hard to do, try and try then google it and finally ask someone. \n",
    "- You can divide this work into daily tasks so that you do not feel pressure.\n",
    "- After you finish, go to model answer and rate yourself. \n",
    "- If you find something ambiguous, Try to make a hypothesis to solve a problem. "
   ]
  },
  {
   "cell_type": "markdown",
   "metadata": {},
   "source": [
    "### Question classification: \n",
    "- Green is level 1 \n",
    "- Orange is level 2 \n",
    "- Red is level 3 "
   ]
  },
  {
   "cell_type": "markdown",
   "metadata": {},
   "source": [
    "# <center> Let's start 💪 </center> "
   ]
  },
  {
   "cell_type": "markdown",
   "metadata": {},
   "source": [
    "## <p style=\"color:green;\">Q.01 Write a Python program to select a random element from a list. Use random.choice()</p>\n"
   ]
  },
  {
   "cell_type": "code",
   "execution_count": 10,
   "metadata": {},
   "outputs": [
    {
     "data": {
      "text/plain": [
       "19"
      ]
     },
     "execution_count": 10,
     "metadata": {},
     "output_type": "execute_result"
    }
   ],
   "source": [
    "# Answer here \n",
    "from random import choice\n",
    "\n",
    "list_1 = list(range(100))\n",
    "\n",
    "rand_num = choice(list_1)\n",
    "rand_num"
   ]
  },
  {
   "cell_type": "markdown",
   "metadata": {},
   "source": [
    "## <p style=\"color:green;\">Q.02 Write a Python program to shuffle the elements of a given list. Use random.shuffle()\n",
    "</p>"
   ]
  },
  {
   "cell_type": "code",
   "execution_count": 12,
   "metadata": {},
   "outputs": [
    {
     "name": "stdout",
     "output_type": "stream",
     "text": [
      "['banana', 'cherry', 'mango', 'apple']\n"
     ]
    }
   ],
   "source": [
    "# Answer here \n",
    "from random import shuffle\n",
    "\n",
    "mylist = [\"apple\", \"banana\", \"cherry\",\"mango\"]\n",
    "shuffle(mylist)\n",
    "\n",
    "print(mylist)"
   ]
  },
  {
   "cell_type": "markdown",
   "metadata": {},
   "source": [
    "## <p style=\"color:orange;\">Q.03 Write a Python program to print yesterday, today, tomorrow.</p>"
   ]
  },
  {
   "cell_type": "code",
   "execution_count": 81,
   "metadata": {},
   "outputs": [
    {
     "name": "stdout",
     "output_type": "stream",
     "text": [
      "Today Date = 2024-03-21\n",
      "Yesterday Date = 2024-03-20\n",
      "Tomorrow Date = 2024-03-22\n"
     ]
    }
   ],
   "source": [
    "# Answer here \n",
    "import datetime\n",
    "\n",
    "today_date = datetime.date.today()\n",
    "\n",
    "one_day_after = datetime.timedelta(days= 1)\n",
    "\n",
    "one_day_before = datetime.timedelta(days=-1)\n",
    "\n",
    "print(f\"\"\"Today Date = {today_date}\\nYesterday Date = {today_date + one_day_before}\n",
    "Tomorrow Date = {today_date + one_day_after}\"\"\")"
   ]
  },
  {
   "cell_type": "code",
   "execution_count": 57,
   "metadata": {},
   "outputs": [
    {
     "name": "stdout",
     "output_type": "stream",
     "text": [
      "2024 / 3 / 21\n"
     ]
    }
   ],
   "source": [
    "# today_date = datetime.date.today()\n",
    "\n",
    "# today_year = today_date.year\n",
    "# today_month = today_date.month\n",
    "# today_day = today_date.day\n",
    "\n",
    "# print(f'{today_year} / {today_month} / {today_day}')"
   ]
  },
  {
   "cell_type": "code",
   "execution_count": 77,
   "metadata": {},
   "outputs": [
    {
     "name": "stdout",
     "output_type": "stream",
     "text": [
      "747360000.0\n"
     ]
    }
   ],
   "source": [
    "# bday = datetime.date(2000,7,15)\n",
    "\n",
    "# till_days = today_date - bday\n",
    "\n",
    "# print(till_days.total_seconds())\n",
    "# dd = datetime.datetime.today()\n",
    "\n",
    "# dd"
   ]
  },
  {
   "cell_type": "markdown",
   "metadata": {},
   "source": [
    "## <p style=\"color:red;\">Q.04 Write a Python program to print next 5 days starting from today. </p>"
   ]
  },
  {
   "cell_type": "code",
   "execution_count": 105,
   "metadata": {},
   "outputs": [
    {
     "name": "stdout",
     "output_type": "stream",
     "text": [
      "2024-03-22\n",
      "2024-03-23\n",
      "2024-03-24\n",
      "2024-03-25\n",
      "2024-03-26\n"
     ]
    }
   ],
   "source": [
    "# Answer here \n",
    "\n",
    "import datetime\n",
    "\n",
    "today_date = datetime.date.today()\n",
    "\n",
    "one_day_after = datetime.timedelta(days= 1)\n",
    "\n",
    "for i in range(1,6):\n",
    "    one_day_after = datetime.timedelta(days= i)\n",
    "\n",
    "    print(today_date + one_day_after)"
   ]
  },
  {
   "cell_type": "markdown",
   "metadata": {},
   "source": [
    "## <p style=\"color:green;\">Q.05 Write a Python program to get current time in milliseconds in Python.</p>"
   ]
  },
  {
   "cell_type": "code",
   "execution_count": 100,
   "metadata": {},
   "outputs": [
    {
     "name": "stdout",
     "output_type": "stream",
     "text": [
      "Teh currant time = 15:40:17  And 636621 Milliseconds.\n"
     ]
    }
   ],
   "source": [
    "# Answer here \n",
    "dt = datetime.datetime.today()\n",
    "\n",
    "\n",
    "\n",
    "print(f\"\"\"Teh currant time = {dt.hour}:{dt.minute}:{dt.second}  And {dt.microsecond} Milliseconds.\"\"\")"
   ]
  },
  {
   "cell_type": "markdown",
   "metadata": {},
   "source": [
    "## <p style=\"color:green;\">Q.06 Write a Python program to get the name of current working directory.</p>\n"
   ]
  },
  {
   "cell_type": "code",
   "execution_count": 106,
   "metadata": {},
   "outputs": [
    {
     "name": "stdout",
     "output_type": "stream",
     "text": [
      "F:\\EPSILON AI\\Data Science\\25 - 17 python_Recap First progect rock paper seccores\n"
     ]
    }
   ],
   "source": [
    "# Answer here \n",
    "import os\n",
    "\n",
    "print(os.getcwd())"
   ]
  },
  {
   "cell_type": "markdown",
   "metadata": {},
   "source": [
    "# <center> Thank's for your effort ❤️ </center> "
   ]
  }
 ],
 "metadata": {
  "kernelspec": {
   "display_name": "Python 3 (ipykernel)",
   "language": "python",
   "name": "python3"
  },
  "language_info": {
   "codemirror_mode": {
    "name": "ipython",
    "version": 3
   },
   "file_extension": ".py",
   "mimetype": "text/x-python",
   "name": "python",
   "nbconvert_exporter": "python",
   "pygments_lexer": "ipython3",
   "version": "3.11.5"
  }
 },
 "nbformat": 4,
 "nbformat_minor": 4
}
