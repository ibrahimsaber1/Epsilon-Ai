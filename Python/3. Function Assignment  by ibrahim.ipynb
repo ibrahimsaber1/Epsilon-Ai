{
 "cells": [
  {
   "cell_type": "markdown",
   "metadata": {},
   "source": [
    "> # Dear Epsilon Students, \n",
    "> # The More you practice The better You'll Be.\n",
    "## <p style=\"color:Yellow;\">By : Ibrahim Saber</p>"
   ]
  },
  {
   "cell_type": "markdown",
   "metadata": {},
   "source": [
    "### Instructions: \n",
    "- Make sure that you understand this topics before you start.\n",
    "- If you found something hard to do, try and try then google it and finally ask someone. \n",
    "- You can divide this work into daily tasks so that you do not feel pressure.\n",
    "- After you finish, go to model answer and rate yourself. \n",
    "- If you find something ambiguous, Try to make a hypothesis to solve a problem. "
   ]
  },
  {
   "cell_type": "markdown",
   "metadata": {},
   "source": [
    "### Question classification: \n",
    "- Green is level 1 \n",
    "- Orange is level 2 \n",
    "- Red is level 3 "
   ]
  },
  {
   "cell_type": "markdown",
   "metadata": {},
   "source": [
    "# <center> Let's start 💪 </center> "
   ]
  },
  {
   "cell_type": "markdown",
   "metadata": {},
   "source": [
    "## <p style=\"color:green;\">Q.01 Write a function takes a two-word string and returns True if both words begin with same letter</p>\n",
    "> ('Levelheaded Llama') → True\n",
    "\n",
    "> ('Crazy Kangaroo') → False"
   ]
  },
  {
   "cell_type": "code",
   "execution_count": 5,
   "metadata": {},
   "outputs": [
    {
     "name": "stdout",
     "output_type": "stream",
     "text": [
      "True\n"
     ]
    }
   ],
   "source": [
    "# Answer here part1.\n",
    "word_1 = input('pleas enter the first word: ')   \n",
    "word_2 = input('pleas enter the first word: ')\n",
    "\n",
    "if word_1[0] == word_2[0]:\n",
    "        print('True')\n",
    "else:\n",
    "    print('False')"
   ]
  },
  {
   "cell_type": "code",
   "execution_count": 4,
   "metadata": {},
   "outputs": [],
   "source": [
    "# Answer here part2.\n",
    "\n",
    "def dose_first_letters_the_same(word_1,word_2):\n",
    "    if word_1[0] == word_2[0]:\n",
    "        return True\n",
    "    else:\n",
    "       return False"
   ]
  },
  {
   "cell_type": "code",
   "execution_count": 5,
   "metadata": {},
   "outputs": [
    {
     "data": {
      "text/plain": [
       "False"
      ]
     },
     "execution_count": 5,
     "metadata": {},
     "output_type": "execute_result"
    }
   ],
   "source": [
    "# Answer here part3.\n",
    "\n",
    "word_1 = input('pleas enter the first word: ')   #('Levelheaded Llama') → True  ('Crazy Kangaroo') → False\n",
    "word_2 = input('pleas enter the first word: ')\n",
    "dose_first_letters_the_same(word_1,word_2)"
   ]
  },
  {
   "cell_type": "markdown",
   "metadata": {},
   "source": [
    "## <p style=\"color:green;\">Q.02 Write a function that returns the lesser of two given numbers if both numbers are even, but returns the greater if one or both numbers are odd</p>\n",
    "\n",
    "> (2,4) → 2\n",
    "\n",
    "> (2,5) → 5"
   ]
  },
  {
   "cell_type": "code",
   "execution_count": 1,
   "metadata": {},
   "outputs": [
    {
     "name": "stdout",
     "output_type": "stream",
     "text": [
      "5\n"
     ]
    }
   ],
   "source": [
    "# Answer here part 1.\n",
    "num1 = 2\n",
    "num2 = 5\n",
    "\n",
    "if num1 %2 == 0 and num2 %2 == 0:\n",
    "    if num1 < num2 :\n",
    "        print(num1)\n",
    "    else:\n",
    "        print(num2)\n",
    "else:\n",
    "    if num1 < num2 :\n",
    "        print(num2)\n",
    "    else:\n",
    "        print(num1)"
   ]
  },
  {
   "cell_type": "code",
   "execution_count": 10,
   "metadata": {},
   "outputs": [],
   "source": [
    "# Answer here part 2.\n",
    "def return_lesser_num_if_even_bigger_num_if_not_even(num1,num2):\n",
    "    if num1 %2 == 0 and num2 %2 == 0:\n",
    "        if num1 < num2 :\n",
    "            print(num1)\n",
    "        else:\n",
    "            print(num2)\n",
    "    else:\n",
    "        if num1 < num2 :\n",
    "            print(num2)\n",
    "        else:\n",
    "            print(num1)"
   ]
  },
  {
   "cell_type": "code",
   "execution_count": 11,
   "metadata": {},
   "outputs": [
    {
     "name": "stdout",
     "output_type": "stream",
     "text": [
      "5\n"
     ]
    }
   ],
   "source": [
    "# Answer here part 3.\n",
    "num1 = int(input('pleas enter your first number:')) #2\n",
    "num2 = int(input('pleas enter your second number:'))  #5\n",
    "return_lesser_num_if_even_bigger_num_if_not_even(num1,num2)"
   ]
  },
  {
   "cell_type": "markdown",
   "metadata": {},
   "source": [
    "## <p style=\"color:green;\">Q.03 Write a function that capitalizes the first and fourth letters of a name</p>\n",
    "> ('macdonald') → MacDonald"
   ]
  },
  {
   "cell_type": "code",
   "execution_count": 15,
   "metadata": {},
   "outputs": [
    {
     "data": {
      "text/plain": [
       "'MacDonald'"
      ]
     },
     "execution_count": 15,
     "metadata": {},
     "output_type": "execute_result"
    }
   ],
   "source": [
    "# Answer here \n",
    "name = 'macdonald'\n",
    "name = list(name)\n",
    "for i in range(len(name)):\n",
    "    name[0] = name[0].upper()\n",
    "    name[3] = name[3].upper()\n",
    "name_new = \"\".join(name)\n",
    "name_new"
   ]
  },
  {
   "cell_type": "code",
   "execution_count": 18,
   "metadata": {},
   "outputs": [],
   "source": [
    "def capitalize_0_and_3_index(name):\n",
    "    name = list(name)\n",
    "    for i in range(len(name)):\n",
    "        name[0] = name[0].upper()\n",
    "        name[3] = name[3].upper()\n",
    "    name_new = \"\".join(name)\n",
    "    return name_new"
   ]
  },
  {
   "cell_type": "code",
   "execution_count": 20,
   "metadata": {},
   "outputs": [
    {
     "data": {
      "text/plain": [
       "'MacDonald'"
      ]
     },
     "execution_count": 20,
     "metadata": {},
     "output_type": "execute_result"
    }
   ],
   "source": [
    "name = input('pleas enter the word: ') #'macdonald'\n",
    "capitalize_0_and_3_index(name)"
   ]
  },
  {
   "cell_type": "markdown",
   "metadata": {},
   "source": [
    "## <p style=\"color:green;\">Q.04 Given a sentence, return a sentence with the words reversed</p>\n",
    "> ('I am home') → 'home am I'"
   ]
  },
  {
   "cell_type": "code",
   "execution_count": 34,
   "metadata": {},
   "outputs": [
    {
     "data": {
      "text/plain": [
       "'home am I'"
      ]
     },
     "execution_count": 34,
     "metadata": {},
     "output_type": "execute_result"
    }
   ],
   "source": [
    "# Answer here part - 1 .\n",
    "sent1 = 'I am home'\n",
    "sent2 = sent1.split()\n",
    "sent2.reverse()\n",
    "sent3 = ' '.join(sent2)\n",
    "sent3"
   ]
  },
  {
   "cell_type": "code",
   "execution_count": 35,
   "metadata": {},
   "outputs": [],
   "source": [
    "# Answer here part - 2 .\n",
    "def reverse_sentence(sent1):\n",
    "    sent1 = 'I am home'\n",
    "    sent2 = sent1.split()\n",
    "    sent2.reverse()\n",
    "    sent3 = ' '.join(sent2)\n",
    "    return sent3"
   ]
  },
  {
   "cell_type": "code",
   "execution_count": 36,
   "metadata": {},
   "outputs": [
    {
     "data": {
      "text/plain": [
       "'home am I'"
      ]
     },
     "execution_count": 36,
     "metadata": {},
     "output_type": "execute_result"
    }
   ],
   "source": [
    "# Answer here part - 3 .\n",
    "sent1 = input('pleas enter your sentence: ')\n",
    "reverse_sentence(sent1)"
   ]
  },
  {
   "cell_type": "markdown",
   "metadata": {},
   "source": [
    "## <p style=\"color:orange;\">Q.05 Given a list of ints, return True if the array contains a 3 next to a 3 somewhere.</p>\n",
    "> has_33([1, 3, 3]) → True\n",
    "\n",
    "> has_33([1, 3, 1, 3]) → False\n"
   ]
  },
  {
   "cell_type": "code",
   "execution_count": 64,
   "metadata": {},
   "outputs": [
    {
     "name": "stdout",
     "output_type": "stream",
     "text": [
      "True\n"
     ]
    }
   ],
   "source": [
    "# Answer here part 1\n",
    "# has_33([1, 3, 3]) → True  -------------------- has_33([1, 3, 1, 3]) → False\n",
    "\n",
    "list1 = [1,2,3,3,4]\n",
    "counter = 0\n",
    "for i in range(len(list1)-1):\n",
    "    if  list1[i] == 3 and list1[i+1] == 3:\n",
    "        counter += 1\n",
    "    else:\n",
    "        counter = counter\n",
    "if counter == 0:\n",
    "    print(\"False\") \n",
    "else:\n",
    "    print(\"True\") "
   ]
  },
  {
   "cell_type": "code",
   "execution_count": 66,
   "metadata": {},
   "outputs": [],
   "source": [
    "# Answer here part 2 .\n",
    "def check_if_num_repeated_in_list(list1,num = 3):\n",
    "    \"\"\"\n",
    "    this function help you chech If the number is repeated at least once in the list.\n",
    "    input the list you want to check as list1 and the number as a second prametar num.\n",
    "    \"\"\"\n",
    "    counter = 0\n",
    "    for i in range(len(list1)-1):\n",
    "        if  list1[i] == num and list1[i+1] == num:\n",
    "            counter += 1\n",
    "        else:\n",
    "            counter = counter\n",
    "    if counter == 0:\n",
    "        return False\n",
    "    else:\n",
    "        return True"
   ]
  },
  {
   "cell_type": "code",
   "execution_count": 67,
   "metadata": {},
   "outputs": [
    {
     "data": {
      "text/plain": [
       "True"
      ]
     },
     "execution_count": 67,
     "metadata": {},
     "output_type": "execute_result"
    }
   ],
   "source": [
    "# Answer here part 3 .\n",
    "list1 = [1,2,3,3,4,4,3,4]\n",
    "check_if_num_repeated_in_list(list1,3)"
   ]
  },
  {
   "cell_type": "code",
   "execution_count": 68,
   "metadata": {},
   "outputs": [
    {
     "data": {
      "text/plain": [
       "True"
      ]
     },
     "execution_count": 68,
     "metadata": {},
     "output_type": "execute_result"
    }
   ],
   "source": [
    "# Answer here part 4 .\n",
    "listo = input('pleas enter your number separated by a space: ') #[1,2,3,3,4,4,3,4]\n",
    "list1 = [int(x) for x in listo.split()]\n",
    "num = int(input('pleas enter the number you want to chech: '))  #3\n",
    "check_if_num_repeated_in_list(list1,num)"
   ]
  },
  {
   "cell_type": "markdown",
   "metadata": {},
   "source": [
    "## <p style=\"color:orange;\">Q.06 BLACKJACK: Given three integers between 1 and 11, if their sum is less than or equal to 21, return their sum. If their sum exceeds 21 and there's an eleven, reduce the total sum by 10. Finally, if the sum (even after adjustment) exceeds 21, return 'BUST'¶</p>\n",
    "\n",
    ">blackjack(5,6,7) → 18\n",
    "\n",
    ">blackjack(9,9,9) → 'BUST'\n",
    "\n",
    ">blackjack(9,9,11) → 19"
   ]
  },
  {
   "cell_type": "code",
   "execution_count": 72,
   "metadata": {},
   "outputs": [
    {
     "name": "stdout",
     "output_type": "stream",
     "text": [
      "19\n"
     ]
    }
   ],
   "source": [
    "# Answer here part 1 .\n",
    "\n",
    "num1 = 9\n",
    "num2 = 9\n",
    "num3 = 11\n",
    "sumattion = num1 + num2 + num3\n",
    "if sumattion <= 21 :\n",
    "    print(sumattion)\n",
    "elif sumattion > 21 and num1 == 11 or num2 == 11 or num3 == 11:\n",
    "    print(sumattion-10)\n",
    "else:\n",
    "    print(\"BUST\")"
   ]
  },
  {
   "cell_type": "code",
   "execution_count": 2,
   "metadata": {},
   "outputs": [],
   "source": [
    "# Answer here part 2 .\n",
    "def blackjack(num1,num2,num3):\n",
    "    sumattion = num1 + num2 + num3\n",
    "    if sumattion <= 21 :\n",
    "        print(sumattion)\n",
    "    elif sumattion > 21 and num1 == 11 or num2 == 11 or num3 == 11:\n",
    "        print(sumattion-10)\n",
    "    else:\n",
    "        print(\"BUST\")"
   ]
  },
  {
   "cell_type": "code",
   "execution_count": 3,
   "metadata": {},
   "outputs": [
    {
     "name": "stdout",
     "output_type": "stream",
     "text": [
      "19\n"
     ]
    }
   ],
   "source": [
    "# Answer here part 3.\n",
    "num1 = 9\n",
    "num2 = 9\n",
    "num3 = 11\n",
    "blackjack(num1,num2,num3)"
   ]
  },
  {
   "cell_type": "code",
   "execution_count": 4,
   "metadata": {},
   "outputs": [
    {
     "data": {
      "text/plain": [
       "5"
      ]
     },
     "execution_count": 4,
     "metadata": {},
     "output_type": "execute_result"
    }
   ],
   "source": [
    "# Answer here .\n",
    "num1 = int(input('pleas enter a number : '))\n",
    "while num1 not in range(0,12):\n",
    "    num1 = int(input('pleas enter a number between 0 and 11: '))\n",
    "num1"
   ]
  },
  {
   "cell_type": "code",
   "execution_count": 8,
   "metadata": {},
   "outputs": [
    {
     "name": "stdout",
     "output_type": "stream",
     "text": [
      "14\n"
     ]
    }
   ],
   "source": [
    "# Answer here if you want the user to enter only a numbers between 0 to 11.\n",
    "num1 = int(input('pleas enter a number : '))\n",
    "while num1 not in range(0,12):\n",
    "    num1 = int(input('pleas enter a number between 0 and 11: '))\n",
    "\n",
    "num2 = int(input('pleas enter a number : '))\n",
    "while num2 not in range(0,12):\n",
    "    num2 = int(input('pleas enter a number between 0 and 11: '))\n",
    "\n",
    "num3 = int(input('pleas enter a number : '))\n",
    "while num3 not in range(0,12):\n",
    "    num3 = int(input('pleas enter a number between 0 and 11: '))\n",
    "\n",
    "blackjack(num1,num2,num3)"
   ]
  },
  {
   "cell_type": "markdown",
   "metadata": {},
   "source": [
    "## <p style=\"color:red;\">Q.07 SUMMER OF '69: Return the sum of the numbers in the array, except ignore sections of numbers starting with a 6 and extending to the next 9 (every 6 will be followed by at least one 9). Return 0 for no numbers.</p>\n",
    ">summer_69([1, 3, 5]) → 9\n",
    "\n",
    ">summer_69([4, 5, 6, 7, 8, 9]) → 9\n",
    "\n",
    ">summer_69([2, 1, 6, 9, 11]) → 14"
   ]
  },
  {
   "cell_type": "code",
   "execution_count": 5,
   "metadata": {},
   "outputs": [
    {
     "name": "stdout",
     "output_type": "stream",
     "text": [
      "14\n"
     ]
    }
   ],
   "source": [
    "# Answer here part 1 .\n",
    "\n",
    "sumattion = 0\n",
    "skip = False  # Flag\n",
    "\n",
    "for i in range(len(listo)):\n",
    "    if listo[i] == 6:\n",
    "        skip = True  # Set the flag \n",
    "    elif listo[i] == 9:\n",
    "        skip = False  # Reset the flag \n",
    "    elif not skip:\n",
    "        sumattion += listo[i]  \n",
    "\n",
    "print(sumattion)\n"
   ]
  },
  {
   "cell_type": "code",
   "execution_count": 3,
   "metadata": {},
   "outputs": [],
   "source": [
    "# Answer here part 2 .\n",
    "def summer_69(listo):\n",
    "    sumattion = 0\n",
    "    skip = False  # Flag\n",
    "\n",
    "    for i in range(len(listo)):\n",
    "        if listo[i] == 6:\n",
    "            skip = True  # Set the flag \n",
    "        elif listo[i] == 9:\n",
    "            skip = False  # Reset the flag \n",
    "        elif not skip:\n",
    "            sumattion += listo[i]  \n",
    "\n",
    "    return sumattion\n"
   ]
  },
  {
   "cell_type": "code",
   "execution_count": 6,
   "metadata": {},
   "outputs": [
    {
     "data": {
      "text/plain": [
       "14"
      ]
     },
     "execution_count": 6,
     "metadata": {},
     "output_type": "execute_result"
    }
   ],
   "source": [
    "# Answer here part 3 .\n",
    "listo = [ 2, 1, 6, 9, 11]\n",
    "summer_69(listo)"
   ]
  },
  {
   "cell_type": "markdown",
   "metadata": {},
   "source": [
    "## <p style=\"color:red;\">Q.08 SPY GAME: Write a function that takes in a list of integers and returns True if it contains 007 in order</p>\n",
    "\n",
    ">spy_game([1,2,4,0,0,7,5]) → True\n",
    "\n",
    "> spy_game([1,0,2,4,0,5,7]) → True\n",
    "\n",
    " >spy_game([1,7,2,0,4,5,0]) → False\n"
   ]
  },
  {
   "cell_type": "code",
   "execution_count": 19,
   "metadata": {},
   "outputs": [
    {
     "name": "stdout",
     "output_type": "stream",
     "text": [
      "False\n"
     ]
    }
   ],
   "source": [
    "# Answer here \n",
    "\n",
    "list1 = [1,0,2,4,5,1,7]\n",
    "\n",
    "found_first_zero = False # the first flag to detecte the firs zero\n",
    "found_second_zero = False  # the second flag to detecte the second zero\n",
    "counter = 0\n",
    "\n",
    "for num in list1:\n",
    "    if num == 0 and not found_first_zero:\n",
    "        found_first_zero = True\n",
    "    elif num == 0 and found_first_zero and not found_second_zero:\n",
    "        found_second_zero = True\n",
    "    elif num == 7 and found_first_zero and found_second_zero:\n",
    "        counter += 1\n",
    "\n",
    "if counter != 0:\n",
    "    print(True)\n",
    "else:\n",
    "    print(False)"
   ]
  },
  {
   "cell_type": "code",
   "execution_count": 22,
   "metadata": {},
   "outputs": [],
   "source": [
    "def spy_game(list1):\n",
    "    found_first_zero = False # the first flag to detecte the firs zero\n",
    "    found_second_zero = False  # the second flag to detecte the second zero\n",
    "    counter = 0\n",
    "\n",
    "    for num in list1:\n",
    "        if num == 0 and not found_first_zero:\n",
    "            found_first_zero = True\n",
    "        elif num == 0 and found_first_zero and not found_second_zero:\n",
    "            found_second_zero = True\n",
    "        elif num == 7 and found_first_zero and found_second_zero:\n",
    "            counter += 1\n",
    "\n",
    "    if counter != 0:\n",
    "        return True\n",
    "    else:\n",
    "        return False\n"
   ]
  },
  {
   "cell_type": "code",
   "execution_count": 25,
   "metadata": {},
   "outputs": [
    {
     "data": {
      "text/plain": [
       "False"
      ]
     },
     "execution_count": 25,
     "metadata": {},
     "output_type": "execute_result"
    }
   ],
   "source": [
    "#  check the function \n",
    "# spy_game([1,2,4,0,0,7,5]) → True -  - :) -  -  spy_game([1,0,2,4,0,5,7]) → True   -  - :) -  -  spy_game([1,7,2,0,4,5,0]) → False\n",
    "\n",
    "list1 = [1,7,2,0,4,5,0]\n",
    "spy_game(list1)"
   ]
  },
  {
   "cell_type": "markdown",
   "metadata": {},
   "source": [
    "## <p style=\"color:green;\">Q.09 Write a function that checks whether a number is in a given range (inclusive of high and low)</p>\n"
   ]
  },
  {
   "cell_type": "code",
   "execution_count": 11,
   "metadata": {},
   "outputs": [
    {
     "name": "stdout",
     "output_type": "stream",
     "text": [
      "the number 3 was foun in your list 1 times\n"
     ]
    }
   ],
   "source": [
    "# Answer here \n",
    "list2 = list(range(9)) #[0, 1, 2, 3, 4, 5, 6, 7, 8]\n",
    "num = 3\n",
    "counter = 0\n",
    "for i in range(len(list2)):\n",
    "    if list2[i] == num:\n",
    "        counter += 1\n",
    "\n",
    "if counter !=0:\n",
    "    print(f'''the number {num} was foun in your list {counter} times''')"
   ]
  },
  {
   "cell_type": "code",
   "execution_count": 21,
   "metadata": {},
   "outputs": [],
   "source": [
    "# Answer here \n",
    "def check_num(list2,num = 3):\n",
    "    counter = 0\n",
    "    for i in range(len(list2)):\n",
    "        if list2[i] == num:\n",
    "            counter += 1\n",
    "    if counter !=0:\n",
    "       print(f'''the number {num} was foun in your list {counter} times''')"
   ]
  },
  {
   "cell_type": "code",
   "execution_count": 22,
   "metadata": {},
   "outputs": [
    {
     "name": "stdout",
     "output_type": "stream",
     "text": [
      "the number 5 was foun in your list 1 times\n"
     ]
    }
   ],
   "source": [
    "# Answer here \n",
    "list2 = [0, 1, 2, 3, 2,4, 5, 6, 3,3,7, 8]\n",
    "num = 5\n",
    "\n",
    "check_num(list2,num )"
   ]
  },
  {
   "cell_type": "markdown",
   "metadata": {},
   "source": [
    "## <p style=\"color:orange;\">Q.10 Write a Python function to multiply all the numbers in a list.</p>\n",
    "> Sample List : [1, 2, 3, -4]\n",
    "\n",
    "> Expected Output : -24"
   ]
  },
  {
   "cell_type": "code",
   "execution_count": 19,
   "metadata": {},
   "outputs": [],
   "source": [
    "# Answer here \n",
    "listo = [1,2,3,-4]\n",
    "def multiply(arg1,arg2):\n",
    "    return arg1 * arg2"
   ]
  },
  {
   "cell_type": "code",
   "execution_count": 20,
   "metadata": {},
   "outputs": [],
   "source": [
    "from functools import reduce"
   ]
  },
  {
   "cell_type": "code",
   "execution_count": 21,
   "metadata": {},
   "outputs": [
    {
     "data": {
      "text/plain": [
       "-24"
      ]
     },
     "execution_count": 21,
     "metadata": {},
     "output_type": "execute_result"
    }
   ],
   "source": [
    "listo = [1,2,3,-4]\n",
    "reduce(multiply,listo)"
   ]
  },
  {
   "cell_type": "markdown",
   "metadata": {},
   "source": [
    "## <p style=\"color:red;\">Q.11 Write a Python function that checks whether a passed string is palindrome or not.</p>\n",
    ">Note: A palindrome is word, phrase, or sequence that reads the same backward as forward, e.g., madam or nurses run."
   ]
  },
  {
   "cell_type": "code",
   "execution_count": 9,
   "metadata": {},
   "outputs": [
    {
     "name": "stdout",
     "output_type": "stream",
     "text": [
      "Your word is palindrome\n"
     ]
    }
   ],
   "source": [
    "# Answer here  part1.\n",
    "word = 'nurses run'\n",
    "\n",
    "word = word.replace(' ', '') # Remove spaces \n",
    "\n",
    "if word == word[::-1]:\n",
    "    print(\"Your word is palindrome\")\n",
    "else:\n",
    "    print(\"Your word is not palindrome\")"
   ]
  },
  {
   "cell_type": "code",
   "execution_count": 20,
   "metadata": {},
   "outputs": [],
   "source": [
    "# Answer here  part - 2 .\n",
    "def is_palindrome(word):\n",
    "    \"\"\"\n",
    "    this function check if a phrase, or sequence that reads the same backward as forward, \n",
    "    e.g., madam or nurses run\n",
    "\n",
    "    this function taks only one argument every time :).............\n",
    "    \"\"\"\n",
    "    word = word.replace(' ', '') # Remove spaces \n",
    "\n",
    "    if word == word[::-1]:\n",
    "        return True\n",
    "    else:\n",
    "        return False"
   ]
  },
  {
   "cell_type": "code",
   "execution_count": 19,
   "metadata": {},
   "outputs": [
    {
     "data": {
      "text/plain": [
       "True"
      ]
     },
     "execution_count": 19,
     "metadata": {},
     "output_type": "execute_result"
    }
   ],
   "source": [
    "# Answer here  part - 3 .\n",
    "\n",
    "word = input('pleas enter your word: ') #'nurses run'\n",
    "is_palindrome(word)"
   ]
  },
  {
   "cell_type": "markdown",
   "metadata": {},
   "source": [
    "## <p style=\"color:green;\">Q.12 Write a Python program to create a lambda function that adds 15 to a given number passed in as an argument\n"
   ]
  },
  {
   "cell_type": "code",
   "execution_count": 23,
   "metadata": {},
   "outputs": [
    {
     "data": {
      "text/plain": [
       "[16]"
      ]
     },
     "execution_count": 23,
     "metadata": {},
     "output_type": "execute_result"
    }
   ],
   "source": [
    "# Answer here \n",
    "num = [1]\n",
    "new_num = (list(map(lambda arg:arg + 15,num)))\n",
    "new_num"
   ]
  },
  {
   "cell_type": "markdown",
   "metadata": {},
   "source": [
    "## <p style=\"color:green;\">Q.13 create a lambda function that multiplies argument x with argument y and print the result.</p>\n"
   ]
  },
  {
   "cell_type": "code",
   "execution_count": 22,
   "metadata": {},
   "outputs": [
    {
     "data": {
      "text/plain": [
       "[10]"
      ]
     },
     "execution_count": 22,
     "metadata": {},
     "output_type": "execute_result"
    }
   ],
   "source": [
    "# Answer here \n",
    "num1 = [5]\n",
    "num2 = [2]\n",
    "list(map(lambda x,y: x * y ,num1,num2))"
   ]
  },
  {
   "cell_type": "markdown",
   "metadata": {},
   "source": [
    "## <p style=\"color:orange;\">Q.14 Write a Python program to filter a list of integers using Lambda. </p>\n",
    "> Original list of integers:[1, 2, 3, 4, 5, 6, 7, 8, 9, 10]\n",
    "\n",
    "> Even numbers from the said list:[2, 4, 6, 8, 10]\n",
    "\n",
    "> Odd numbers from the said list:[1, 3, 5, 7, 9]\n"
   ]
  },
  {
   "cell_type": "code",
   "execution_count": 29,
   "metadata": {},
   "outputs": [
    {
     "name": "stdout",
     "output_type": "stream",
     "text": [
      "Original list of integers: [1, 2, 3, 4, 5, 6, 7, 8, 9, 10]\n",
      "Even numbers from the said list: [2, 4, 6, 8, 10]\n",
      "Odd numbers from the said list: [1, 3, 5, 7, 9]\n",
      "\n"
     ]
    }
   ],
   "source": [
    "# Answer here \n",
    "numbers = [1, 2, 3, 4, 5, 6, 7, 8, 9, 10]\n",
    "even_nums = list(filter(lambda x: True if x % 2 ==0 else False,numbers))\n",
    "odd_nums = list(set(numbers).difference(set(even_nums)))\n",
    "\n",
    "print(f'''Original list of integers: {numbers}\n",
    "Even numbers from the said list: {even_nums}\n",
    "Odd numbers from the said list: {odd_nums}\n",
    "''')"
   ]
  },
  {
   "cell_type": "markdown",
   "metadata": {},
   "source": [
    "## <p style=\"color:green;\">Q.15 Write a Python program to triple all numbers of a given list of integers. Use Python map.</p>\n"
   ]
  },
  {
   "cell_type": "code",
   "execution_count": 47,
   "metadata": {},
   "outputs": [],
   "source": [
    "# Answer here \n",
    "list8 = [1,2,3,4,5,6,7]\n",
    "\n",
    "def triple_of_num(arg):\n",
    "    return arg * 3\n",
    "# Answer here \n"
   ]
  },
  {
   "cell_type": "code",
   "execution_count": 48,
   "metadata": {},
   "outputs": [
    {
     "name": "stdout",
     "output_type": "stream",
     "text": [
      "Your list = [1, 2, 3, 4, 5, 6, 7]\n",
      "Your Triple numbers = [3, 6, 9, 12, 15, 18, 21]\n"
     ]
    }
   ],
   "source": [
    "# Answer here \n",
    "list8 = [1,2,3,4,5,6,7]\n",
    "\n",
    "Triple_nums = list(map(triple_of_num,list8))\n",
    "\n",
    "\n",
    "print(f'Your list = {list8}\\nYour Triple numbers = {Triple_nums}')"
   ]
  },
  {
   "cell_type": "markdown",
   "metadata": {},
   "source": [
    "## <p style=\"color:orange;\">Q.16 Write a Python program to add three given lists using Python map and lambda.\n",
    "\n",
    "</p>\n"
   ]
  },
  {
   "cell_type": "code",
   "execution_count": 2,
   "metadata": {},
   "outputs": [
    {
     "data": {
      "text/plain": [
       "[6, 9, 12]"
      ]
     },
     "execution_count": 2,
     "metadata": {},
     "output_type": "execute_result"
    }
   ],
   "source": [
    "# Answer here \n",
    "list1 = [1,2,3]\n",
    "list2 = [2,3,4]\n",
    "list3 = [3,4,5]\n",
    "\n",
    "list(map(lambda x,y,z: x+y+z ,list1,list2,list3))"
   ]
  },
  {
   "cell_type": "markdown",
   "metadata": {},
   "source": [
    "## <p style=\"color:orange;\">Q.17 Write a Python program to square the elements of a list using map() function.</p>\n"
   ]
  },
  {
   "cell_type": "code",
   "execution_count": 44,
   "metadata": {},
   "outputs": [],
   "source": [
    "# Answer here \n",
    "list9 = [1,2,3,4,5,6,7]\n",
    "\n",
    "def power_of_num(arg):\n",
    "    return arg**2\n"
   ]
  },
  {
   "cell_type": "code",
   "execution_count": 46,
   "metadata": {},
   "outputs": [
    {
     "name": "stdout",
     "output_type": "stream",
     "text": [
      "Your list = [1, 2, 3, 4, 5, 6, 7]\n",
      "After useng power on the list numbers = [1, 4, 9, 16, 25, 36, 49]\n"
     ]
    }
   ],
   "source": [
    "# Answer here \n",
    "list9 = [1,2,3,4,5,6,7]\n",
    "\n",
    "list9_power = list(map(power_of_num,list9))\n",
    "\n",
    "\n",
    "print(f'Your list = {list9}\\nAfter useng power on the list numbers = {list9_power}')"
   ]
  },
  {
   "cell_type": "markdown",
   "metadata": {},
   "source": [
    "## <p style=\"color:green;\">Q.18 Using filter() function filter the list so that only negative numbers are left.</p>\n",
    "> lst1  [12,-1,9,8,-.5,-.2,-100]\n"
   ]
  },
  {
   "cell_type": "code",
   "execution_count": 41,
   "metadata": {},
   "outputs": [],
   "source": [
    "# Answer here \n",
    "lst1 = [12,-1,9,8,-.5,-.2,-100]\n",
    "\n",
    "def return_negative_nums(arg):\n",
    "    if arg < 0:\n",
    "        return True"
   ]
  },
  {
   "cell_type": "code",
   "execution_count": 42,
   "metadata": {},
   "outputs": [
    {
     "name": "stdout",
     "output_type": "stream",
     "text": [
      "Your list = [12, -1, 9, 8, -0.5, -0.2, -100]\n",
      "The odd numbers = [-1, -0.5, -0.2, -100]\n"
     ]
    }
   ],
   "source": [
    "# Answer here\n",
    "\n",
    "negative_nums_list1 = list(filter(return_negative_nums,lst1))\n",
    "\n",
    "print(f'Your list = {lst1}\\nThe odd numbers = {negative_nums_list1}')"
   ]
  },
  {
   "cell_type": "markdown",
   "metadata": {},
   "source": [
    "## <p style=\"color:green;\">Q.19 Using filter function, filter the even numbers so that only odd numbers are passed to the new list.</p>\n",
    "> lst1  [22,100,19,13,11,1,4,66]\n"
   ]
  },
  {
   "cell_type": "code",
   "execution_count": 36,
   "metadata": {},
   "outputs": [],
   "source": [
    "# Answer here\n",
    "lst1 = [22,100,19,13,11,1,4,66]\n",
    "\n",
    "def return_odd_nums(arg):\n",
    "    if arg % 2 == 1:\n",
    "        return True"
   ]
  },
  {
   "cell_type": "code",
   "execution_count": 38,
   "metadata": {},
   "outputs": [
    {
     "name": "stdout",
     "output_type": "stream",
     "text": [
      "Your list = [22, 100, 19, 13, 11, 1, 4, 66]\n",
      "The odd numbers = [19, 13, 11, 1]\n"
     ]
    }
   ],
   "source": [
    "# Answer here\n",
    "\n",
    "odd_list1 = list(filter(return_odd_nums,lst1))\n",
    "\n",
    "print(f'Your list = {lst1}\\nThe odd numbers = {odd_list1}')"
   ]
  },
  {
   "cell_type": "markdown",
   "metadata": {},
   "source": [
    "## <p style=\"color:green;\">Q.20 Using map() and filter() functions add 2000 to the values below 8000.</p>\n",
    "> lst [1000,500,600,700,5000,90000,17500]"
   ]
  },
  {
   "cell_type": "code",
   "execution_count": 32,
   "metadata": {},
   "outputs": [],
   "source": [
    "# Answer here Part 1 :\n",
    "lst = [1000,500,600,700,5000,90000,17500]\n",
    "\n",
    "def filter_below_8000(arg):\n",
    "    if arg <= 8000:\n",
    "        return True\n",
    "    else:\n",
    "        return False\n",
    "    \n",
    "def add_2000(arg):\n",
    "    return arg + 2000"
   ]
  },
  {
   "cell_type": "code",
   "execution_count": 34,
   "metadata": {},
   "outputs": [
    {
     "name": "stdout",
     "output_type": "stream",
     "text": [
      "Your list = [1000, 500, 600, 700, 5000, 90000, 17500]\n",
      "The numbers below 8000 = [1000, 500, 600, 700, 5000]\n",
      "The numbers after adding 2000 = [3000, 2500, 2600, 2700, 7000]\n"
     ]
    }
   ],
   "source": [
    "# Answer here Part 2 :)\n",
    "\n",
    "lst_below_8000 = list(filter(filter_below_8000,lst))\n",
    "final_1st = list(map(add_2000,lst_below_8000))\n",
    "\n",
    "print(f'''Your list = {lst}\n",
    "The numbers below 8000 = {lst_below_8000}\n",
    "The numbers after adding 2000 = {final_1st}''')"
   ]
  },
  {
   "cell_type": "markdown",
   "metadata": {},
   "source": [
    "# <center> Thank's for your effort ❤️ </center> "
   ]
  }
 ],
 "metadata": {
  "kernelspec": {
   "display_name": "Python 3",
   "language": "python",
   "name": "python3"
  },
  "language_info": {
   "codemirror_mode": {
    "name": "ipython",
    "version": 3
   },
   "file_extension": ".py",
   "mimetype": "text/x-python",
   "name": "python",
   "nbconvert_exporter": "python",
   "pygments_lexer": "ipython3",
   "version": "3.11.7"
  }
 },
 "nbformat": 4,
 "nbformat_minor": 4
}
