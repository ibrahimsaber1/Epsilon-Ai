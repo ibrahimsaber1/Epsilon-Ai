{
 "cells": [
  {
   "cell_type": "markdown",
   "metadata": {},
   "source": [
    "> # Dear Epsilon Students, \n",
    "> # The More you practice The better You'll Be.\n",
    "## <p style=\"color:yellow;\">Answers By Ibrahim Saber "
   ]
  },
  {
   "cell_type": "markdown",
   "metadata": {},
   "source": [
    "### Instructions: \n",
    "- Make sure that you understand this topics before you start.\n",
    "- If you found something hard to do, try and try then google it and finally ask someone. \n",
    "- You can divide this work into daily tasks so that you do not feel pressure.\n",
    "- After you finish, go to model answer and rate yourself. \n",
    "- If you find something ambiguous, Try to make a hypothesis to solve a problem. "
   ]
  },
  {
   "cell_type": "markdown",
   "metadata": {},
   "source": [
    "### Question classification: \n",
    "- Green is level 1 \n",
    "- Orange is level 2 \n",
    "- Red is level 3 "
   ]
  },
  {
   "cell_type": "markdown",
   "metadata": {},
   "source": [
    "# <center> Let's start 💪 </center> "
   ]
  },
  {
   "cell_type": "markdown",
   "metadata": {},
   "source": [
    "## <p style=\"color:green;\">Q.01 Reassign 'hello' in this nested list to say 'goodbye' instead</p>\n",
    "> list3 = [1,2,[3,4,'hello']]"
   ]
  },
  {
   "cell_type": "code",
   "execution_count": 5,
   "metadata": {},
   "outputs": [
    {
     "name": "stdout",
     "output_type": "stream",
     "text": [
      "[1, 2, [3, 4, 'goodbye']]\n"
     ]
    }
   ],
   "source": [
    "# Answer here \n",
    "list3 = [1,2,[3,4,'hello']]\n",
    "\n",
    "list3[2][2] = 'goodbye'\n",
    "\n",
    "print(list3)"
   ]
  },
  {
   "cell_type": "markdown",
   "metadata": {},
   "source": [
    "## <p style=\"color:green;\">Q.02 Sort the list below</p>\n",
    "> list4 = [5,3,4,6,1]"
   ]
  },
  {
   "cell_type": "code",
   "execution_count": 21,
   "metadata": {},
   "outputs": [
    {
     "name": "stdout",
     "output_type": "stream",
     "text": [
      "[1, 3, 4, 5, 6]\n"
     ]
    }
   ],
   "source": [
    "# Answer here \n",
    "list4 = [5,3,4,6,1]\n",
    "list4.sort()\n",
    "print(list4)"
   ]
  },
  {
   "cell_type": "markdown",
   "metadata": {},
   "source": [
    "## <p style=\"color:orange;\">Q.03 Write a Python program to remove duplicates from a list.</p>\n"
   ]
  },
  {
   "cell_type": "code",
   "execution_count": 68,
   "metadata": {},
   "outputs": [
    {
     "name": "stdout",
     "output_type": "stream",
     "text": [
      "the unique list = [1, 2, 3, 4, 5, 6, 7, 8]\n"
     ]
    }
   ],
   "source": [
    "#part 1 :)\n",
    "# this Answer, If you want me to make the list myself :)\n",
    "#----------*-*-----------*-*-----------*-*---------*-*-----------------*-*-----------*-*--------------*-*\n",
    "\n",
    "list1 = [1,2,3,4,5,2,6,4,1,2,5,4,2,6,7,8,5]\n",
    "\n",
    "# Convert the list to a list of unique elements\n",
    "list2 = list(set(list1))\n",
    "\n",
    "#printing\n",
    "print('List of unique values ​​=',list2)"
   ]
  },
  {
   "cell_type": "code",
   "execution_count": 70,
   "metadata": {},
   "outputs": [
    {
     "name": "stdout",
     "output_type": "stream",
     "text": [
      "Original List: ['1', '2', '3', '4', '5', '6', '7', '8', '9', '1', '2', '1', '4', '3', '5']\n",
      "List of unique values ​​= ['1', '5', '6', '8', '3', '4', '7', '9', '2']\n"
     ]
    }
   ],
   "source": [
    "# part 2\n",
    "# this Answer, If you want the user to input the list :)\n",
    "#----------*-*-----------*-*-----------*-*---------*-*-----------------*-*-----------*-*--------------*-*\n",
    "\n",
    "\n",
    "list0 = input(\"Enter a list of elements separated by spaces: \")\n",
    "\n",
    "# Convert it into a list of elements\n",
    "list1 = list0.split()\n",
    "\n",
    "# Convert it into a list of unique elements.\n",
    "list2 = list(set(list1))\n",
    "\n",
    "#printing\n",
    "print(\"Original List:\", list1)\n",
    "print(\"List of unique values ​​=\", list2)\n"
   ]
  },
  {
   "cell_type": "markdown",
   "metadata": {},
   "source": [
    "## <p style=\"color:green;\">Q.04 Using keys and indexing, grab the 'hello' from the following dictionaries:</p>\n",
    ">d = {'k1':{'k2':'hello'}}\n",
    "\n"
   ]
  },
  {
   "cell_type": "code",
   "execution_count": 19,
   "metadata": {},
   "outputs": [
    {
     "name": "stdout",
     "output_type": "stream",
     "text": [
      "hello\n"
     ]
    }
   ],
   "source": [
    "# Answer here no.1:\n",
    "d = {'k1': {'k2': 'hello'}}\n",
    "\n",
    "# Using indexing\n",
    "d2 = d['k1']['k2']\n",
    "\n",
    "print(d2)\n"
   ]
  },
  {
   "cell_type": "code",
   "execution_count": 20,
   "metadata": {},
   "outputs": [
    {
     "name": "stdout",
     "output_type": "stream",
     "text": [
      "hello\n"
     ]
    }
   ],
   "source": [
    "# Answer here no.2:\n",
    "\n",
    "d = {'k1': {'k2': 'hello'}}\n",
    "#printing\n",
    "print(d['k1']['k2'])"
   ]
  },
  {
   "cell_type": "markdown",
   "metadata": {},
   "source": [
    "## <p style=\"color:orange;\">Q.05 Using keys and indexing, grab the 'hello' from the following dictionaries:</p>\n",
    "> d = {'k1':[{'nest_key':['this is deep',['hello']]}]}"
   ]
  },
  {
   "cell_type": "code",
   "execution_count": 21,
   "metadata": {},
   "outputs": [
    {
     "data": {
      "text/plain": [
       "'hello'"
      ]
     },
     "execution_count": 21,
     "metadata": {},
     "output_type": "execute_result"
    }
   ],
   "source": [
    "# Answer here \n",
    "\n",
    "d = {'k1':[{'nest_key':['this is deep',['hello']]}]}\n",
    "\n",
    "d['k1']\n",
    "d['k1'][0]\n",
    "d['k1'][0]['nest_key']\n",
    "d['k1'][0]['nest_key'][1]\n",
    "d['k1'][0]['nest_key'][1][0]\n"
   ]
  },
  {
   "cell_type": "code",
   "execution_count": 58,
   "metadata": {},
   "outputs": [
    {
     "data": {
      "text/plain": [
       "'hello'"
      ]
     },
     "execution_count": 58,
     "metadata": {},
     "output_type": "execute_result"
    }
   ],
   "source": [
    "#The answer is more readable here :)\n",
    "\n",
    "d = {'k1':[{'nest_key':['this is deep',['hello']]}]}\n",
    "\n",
    "d['k1'][0]['nest_key'][1][0]\n"
   ]
  },
  {
   "cell_type": "markdown",
   "metadata": {},
   "source": [
    "## <p style=\"color:red;\">Q.06 Using keys and indexing, grab the 'hello' from the following dictionaries:</p>\n",
    "d = {'k1':[1,2,{'k2':['this is tricky',{'tough':[1,2,['hello']]}]}]}"
   ]
  },
  {
   "cell_type": "code",
   "execution_count": 71,
   "metadata": {},
   "outputs": [
    {
     "data": {
      "text/plain": [
       "'hello'"
      ]
     },
     "execution_count": 71,
     "metadata": {},
     "output_type": "execute_result"
    }
   ],
   "source": [
    "# Answer here \n",
    "\n",
    "d = {'k1':[1,2,{'k2':['this is tricky',{'tough':[1,2,['hello']]}]}]}\n",
    "\n",
    "d['k1']\n",
    "d['k1'][2]\n",
    "d['k1'][2]['k2']\n",
    "d['k1'][2]['k2'][1]\n",
    "d['k1'][2]['k2'][1]['tough']\n",
    "d['k1'][2]['k2'][1]['tough'][2]\n",
    "d['k1'][2]['k2'][1]['tough'][2][0]"
   ]
  },
  {
   "cell_type": "code",
   "execution_count": 72,
   "metadata": {},
   "outputs": [
    {
     "data": {
      "text/plain": [
       "'hello'"
      ]
     },
     "execution_count": 72,
     "metadata": {},
     "output_type": "execute_result"
    }
   ],
   "source": [
    "#The answer is more readable here :)\n",
    "\n",
    "d = {'k1':[1,2,{'k2':['this is tricky',{'tough':[1,2,['hello']]}]}]}\n",
    "\n",
    "d['k1'][2]['k2'][1]['tough'][2][0]"
   ]
  },
  {
   "cell_type": "markdown",
   "metadata": {},
   "source": [
    "## <p style=\"color:green;\">Q.07 Write a Python script to add a key and value to a dictionary.</p>\n",
    "> Sample Dictionary : {0: 10, 1: 20}\n",
    "\n",
    "> Expected Result : {0: 10, 1: 20, 2: 30}"
   ]
  },
  {
   "cell_type": "code",
   "execution_count": 3,
   "metadata": {},
   "outputs": [
    {
     "data": {
      "text/plain": [
       "{0: 10, 1: 20, 2: 30}"
      ]
     },
     "execution_count": 3,
     "metadata": {},
     "output_type": "execute_result"
    }
   ],
   "source": [
    "# Answer here \n",
    "## using --update method.\n",
    "dict = {0:10,1:20}\n",
    "\n",
    "dict.update({2:30})\n",
    "\n",
    "dict"
   ]
  },
  {
   "cell_type": "code",
   "execution_count": 23,
   "metadata": {},
   "outputs": [
    {
     "data": {
      "text/plain": [
       "{0: 10, 1: 20, 2: 30}"
      ]
     },
     "execution_count": 23,
     "metadata": {},
     "output_type": "execute_result"
    }
   ],
   "source": [
    "# Answer here\n",
    "\n",
    "dict = {0:10,1:20}\n",
    "\n",
    "dict[2]=30\n",
    "\n",
    "dict"
   ]
  },
  {
   "cell_type": "markdown",
   "metadata": {},
   "source": [
    "## <p style=\"color:green;\">Q.08 Write a Python program to add an item in a tuple.</p>\n"
   ]
  },
  {
   "cell_type": "code",
   "execution_count": 26,
   "metadata": {},
   "outputs": [
    {
     "name": "stdout",
     "output_type": "stream",
     "text": [
      "(1, 2, 3, 'a', 'b', 'c', 'g')\n"
     ]
    }
   ],
   "source": [
    "# Answer here\n",
    "\n",
    "tuple1 = (1, 2, 3, 'a', 'b')\n",
    "\n",
    "tuple2 = tuple1 + ('c','g',)\n",
    "\n",
    "print(tuple2)\n"
   ]
  },
  {
   "cell_type": "markdown",
   "metadata": {},
   "source": [
    "## <p style=\"color:green;\">Q.09 Write a Python program to convert a tuple to a string.</p>\n"
   ]
  },
  {
   "cell_type": "code",
   "execution_count": 27,
   "metadata": {},
   "outputs": [
    {
     "name": "stdout",
     "output_type": "stream",
     "text": [
      "abc\n"
     ]
    }
   ],
   "source": [
    "# Answer here \n",
    "my_tuple = ( 'a', 'b', 'c')\n",
    "\n",
    "my_list = list(my_tuple)\n",
    "\n",
    "my_str = ''.join(my_list)\n",
    "\n",
    "print(my_str)"
   ]
  },
  {
   "cell_type": "code",
   "execution_count": 18,
   "metadata": {},
   "outputs": [
    {
     "name": "stdout",
     "output_type": "stream",
     "text": [
      "123abc\n"
     ]
    }
   ],
   "source": [
    "# Answer here\n",
    "\n",
    "my_tuple = (1, 2, 3, 'a', 'b', 'c')\n",
    "\n",
    "\n",
    "my_str = ''.join(map(str, my_tuple))\n",
    "\n",
    "print(my_str)\n"
   ]
  },
  {
   "cell_type": "markdown",
   "metadata": {},
   "source": [
    "## <p style=\"color:green;\">Q.10 Write a Python program to remove item(s) from a given set.</p>\n"
   ]
  },
  {
   "cell_type": "code",
   "execution_count": 40,
   "metadata": {},
   "outputs": [
    {
     "name": "stdout",
     "output_type": "stream",
     "text": [
      "Set after removing items: {1, 2, 3, 4, 6}\n"
     ]
    }
   ],
   "source": [
    "# Answer here \n",
    "my_set = {1,2,3,4,5,6,7}\n",
    "\n",
    "items_to_remove = {5,7}\n",
    "\n",
    "my_set -= items_to_remove\n",
    "\n",
    "print(\"Set after removing items:\", my_set)\n"
   ]
  },
  {
   "cell_type": "code",
   "execution_count": 41,
   "metadata": {},
   "outputs": [
    {
     "name": "stdout",
     "output_type": "stream",
     "text": [
      "Set after removing items: {1, 2, 3, 4, 6}\n"
     ]
    }
   ],
   "source": [
    "# Answer here\n",
    "\n",
    "my_set = {1, 2, 3, 4, 5, 6, 7}\n",
    "\n",
    "my_set.remove(5)\n",
    "my_set.remove(7) \n",
    "\n",
    "print(\"Set after removing items:\", my_set)\n"
   ]
  },
  {
   "cell_type": "code",
   "execution_count": 36,
   "metadata": {},
   "outputs": [
    {
     "name": "stdout",
     "output_type": "stream",
     "text": [
      "Set after removing items: {1, 2, 3, 4, 6}\n"
     ]
    }
   ],
   "source": [
    "# Answer here \n",
    "\n",
    "my_set = {1, 2, 3, 4, 5, 6, 7}\n",
    "\n",
    "items_to_remove = {5,7}\n",
    "\n",
    "my_set.difference_update(items_to_remove)\n",
    "\n",
    "print(\"Set after removing items:\", my_set)\n"
   ]
  },
  {
   "cell_type": "markdown",
   "metadata": {},
   "source": [
    "## <p style=\"color:orange;\">Q.11 Write a Python program to create an intersection of sets.</p>\n",
    "> Explanation : In mathematics, the intersection of two sets A and B, denoted by A ∩ B, is the set containing all elements of A that also belong to B (or equivalently, all elements of B that also belong to A)."
   ]
  },
  {
   "cell_type": "code",
   "execution_count": 12,
   "metadata": {},
   "outputs": [
    {
     "name": "stdout",
     "output_type": "stream",
     "text": [
      "{5, 6, 7}\n",
      "Set 1: {1, 2, 3, 4, 5, 6, 7}\n",
      "Set 2: {5, 6, 7, 8, 9, 10, 11}\n",
      "Intersection of sets 1 and 2: {5, 6, 7}\n"
     ]
    }
   ],
   "source": [
    "# Answer here way no.1\n",
    "\n",
    "set1 = {1,2,3,4,5,6,7}\n",
    "set2 = {5,6,7,8,9,10,11}\n",
    "\n",
    "set3 = set1.intersection(set2)\n",
    "\n",
    "##print(set3)\n",
    "print(\"Set 1:\", set1)\n",
    "print(\"Set 2:\", set2)\n",
    "print(\"Intersection of sets 1 and 2:\", set3)"
   ]
  },
  {
   "cell_type": "code",
   "execution_count": 13,
   "metadata": {},
   "outputs": [
    {
     "name": "stdout",
     "output_type": "stream",
     "text": [
      "{5, 6, 7}\n",
      "Set 1: {1, 2, 3, 4, 5, 6, 7}\n",
      "Set 2: {5, 6, 7, 8, 9, 10, 11}\n",
      "Intersection of sets 1 and 2: {5, 6, 7}\n"
     ]
    }
   ],
   "source": [
    "# Answer here way no.2\n",
    "\n",
    "set1 = {1,2,3,4,5,6,7}\n",
    "set2 = {5,6,7,8,9,10,11}\n",
    "\n",
    "##print(set1 & set2)\n",
    "\n",
    "print(\"Set 1:\", set1)\n",
    "print(\"Set 2:\", set2)\n",
    "print(\"Intersection of sets 1 and 2:\", set1 & set2)"
   ]
  },
  {
   "cell_type": "code",
   "execution_count": 16,
   "metadata": {},
   "outputs": [
    {
     "name": "stdout",
     "output_type": "stream",
     "text": [
      "Set 1: {1, 2, 3, 4, 5, 6, 7}\n",
      "Set 2: {5, 6, 7, 8, 9, 10, 11}\n",
      "Intersection of sets 1 and 2: {5, 6, 7}\n"
     ]
    }
   ],
   "source": [
    "# Answer here way no.3\n",
    "\n",
    "def set_intersection(set1,set2):\n",
    "    set3 = set1.intersection(set2)\n",
    "    return set3\n",
    "\n",
    "# Example:\n",
    "set1 = {1,2,3,4,5,6,7}\n",
    "set2 = {5,6,7,8,9,10,11}\n",
    "set3 = set_intersection(set1,set2)\n",
    "##print(set3)\n",
    "\n",
    "print(\"Set 1:\", set1)\n",
    "print(\"Set 2:\", set2)\n",
    "print(\"Intersection of sets 1 and 2:\", set3)"
   ]
  },
  {
   "cell_type": "markdown",
   "metadata": {},
   "source": [
    "## <p style=\"color:orange;\">Q.12 Write a Python program to create a union of sets.</p>\n",
    "> Explanation :In mathematics, The union of two sets A and B is the set of elements which are in A, in B, or in both A and B. "
   ]
  },
  {
   "cell_type": "code",
   "execution_count": 43,
   "metadata": {},
   "outputs": [
    {
     "name": "stdout",
     "output_type": "stream",
     "text": [
      "{1, 2, 3, 4, 5, 6, 7, 8, 9, 10}\n"
     ]
    }
   ],
   "source": [
    "# Answer here \n",
    "\n",
    "set1 = {1,2,3,4,5,6}\n",
    "set2 = {5,6,7,8,9,10}\n",
    "\n",
    "set3 = set1.union(set2)\n",
    "\n",
    "print(set3)"
   ]
  },
  {
   "cell_type": "code",
   "execution_count": 44,
   "metadata": {},
   "outputs": [
    {
     "name": "stdout",
     "output_type": "stream",
     "text": [
      "{1, 2, 3, 4, 5, 6, 7, 8, 9, 10}\n"
     ]
    }
   ],
   "source": [
    "# Answer here \n",
    "\n",
    "set1 = {1,2,3,4,5,6}\n",
    "set2 = {5,6,7,8,9,10}\n",
    "\n",
    "print(set1.union(set2))"
   ]
  },
  {
   "cell_type": "markdown",
   "metadata": {},
   "source": [
    "# <center> Thank's for your effort ❤️ </center> "
   ]
  }
 ],
 "metadata": {
  "kernelspec": {
   "display_name": "Python 3",
   "language": "python",
   "name": "python3"
  },
  "language_info": {
   "codemirror_mode": {
    "name": "ipython",
    "version": 3
   },
   "file_extension": ".py",
   "mimetype": "text/x-python",
   "name": "python",
   "nbconvert_exporter": "python",
   "pygments_lexer": "ipython3",
   "version": "3.11.5"
  }
 },
 "nbformat": 4,
 "nbformat_minor": 4
}
